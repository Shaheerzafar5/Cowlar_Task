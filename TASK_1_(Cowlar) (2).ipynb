{
  "nbformat": 4,
  "nbformat_minor": 0,
  "metadata": {
    "colab": {
      "provenance": [],
      "gpuType": "T4"
    },
    "kernelspec": {
      "name": "python3",
      "display_name": "Python 3"
    },
    "language_info": {
      "name": "python"
    },
    "accelerator": "GPU"
  },
  "cells": [
    {
      "cell_type": "markdown",
      "source": [
        "#**Importing the Necessory Libraries**"
      ],
      "metadata": {
        "id": "EEcEwh_BTsGZ"
      }
    },
    {
      "cell_type": "code",
      "execution_count": 3,
      "metadata": {
        "id": "ygEDa3HcTfD5"
      },
      "outputs": [],
      "source": [
        "import numpy as np\n",
        "import pandas as pd\n",
        "from sklearn.preprocessing import StandardScaler\n",
        "from sklearn.model_selection import train_test_split\n",
        "from sklearn.linear_model import LinearRegression\n",
        "from sklearn.tree import DecisionTreeRegressor\n",
        "from sklearn.ensemble import RandomForestRegressor, GradientBoostingRegressor\n",
        "from sklearn.metrics import mean_squared_error, r2_score\n",
        "import matplotlib.pyplot as plt\n",
        "import seaborn as sns"
      ]
    },
    {
      "cell_type": "markdown",
      "source": [
        "#**Loading and Exploring the DataSet**"
      ],
      "metadata": {
        "id": "5fno6lktUSP3"
      }
    },
    {
      "cell_type": "code",
      "source": [
        "df = pd.read_csv(\"car_data.csv\")\n",
        "df.head()\n",
        "df.info()\n",
        "df.describe()"
      ],
      "metadata": {
        "colab": {
          "base_uri": "https://localhost:8080/",
          "height": 610
        },
        "id": "c6MbuieHUPrr",
        "outputId": "2605d65e-d1a7-4832-d4a9-510e882b8d2c"
      },
      "execution_count": 4,
      "outputs": [
        {
          "output_type": "stream",
          "name": "stdout",
          "text": [
            "<class 'pandas.core.frame.DataFrame'>\n",
            "RangeIndex: 80572 entries, 0 to 80571\n",
            "Data columns (total 10 columns):\n",
            " #   Column           Non-Null Count  Dtype \n",
            "---  ------           --------------  ----- \n",
            " 0   Make             80572 non-null  object\n",
            " 1   Model            80572 non-null  object\n",
            " 2   Version          73800 non-null  object\n",
            " 3   Price            80572 non-null  object\n",
            " 4   Make_Year        80572 non-null  int64 \n",
            " 5   CC               80572 non-null  int64 \n",
            " 6   Assembly         80572 non-null  object\n",
            " 7   Mileage          80572 non-null  int64 \n",
            " 8   Registered City  80572 non-null  object\n",
            " 9   Transmission     80572 non-null  object\n",
            "dtypes: int64(3), object(7)\n",
            "memory usage: 6.1+ MB\n"
          ]
        },
        {
          "output_type": "execute_result",
          "data": {
            "text/plain": [
              "          Make_Year            CC        Mileage\n",
              "count  80572.000000  80572.000000   80572.000000\n",
              "mean    2011.724209   1404.083267   85653.660080\n",
              "std        6.953399    684.458171   82241.870901\n",
              "min     1990.000000      1.000000       1.000000\n",
              "25%     2007.000000   1000.000000   36500.000000\n",
              "50%     2013.000000   1300.000000   73000.000000\n",
              "75%     2017.000000   1600.000000  110520.000000\n",
              "max     2021.000000  10000.000000  999999.000000"
            ],
            "text/html": [
              "\n",
              "  <div id=\"df-dd3537f6-bdcb-4e81-8175-a7de07d1c788\" class=\"colab-df-container\">\n",
              "    <div>\n",
              "<style scoped>\n",
              "    .dataframe tbody tr th:only-of-type {\n",
              "        vertical-align: middle;\n",
              "    }\n",
              "\n",
              "    .dataframe tbody tr th {\n",
              "        vertical-align: top;\n",
              "    }\n",
              "\n",
              "    .dataframe thead th {\n",
              "        text-align: right;\n",
              "    }\n",
              "</style>\n",
              "<table border=\"1\" class=\"dataframe\">\n",
              "  <thead>\n",
              "    <tr style=\"text-align: right;\">\n",
              "      <th></th>\n",
              "      <th>Make_Year</th>\n",
              "      <th>CC</th>\n",
              "      <th>Mileage</th>\n",
              "    </tr>\n",
              "  </thead>\n",
              "  <tbody>\n",
              "    <tr>\n",
              "      <th>count</th>\n",
              "      <td>80572.000000</td>\n",
              "      <td>80572.000000</td>\n",
              "      <td>80572.000000</td>\n",
              "    </tr>\n",
              "    <tr>\n",
              "      <th>mean</th>\n",
              "      <td>2011.724209</td>\n",
              "      <td>1404.083267</td>\n",
              "      <td>85653.660080</td>\n",
              "    </tr>\n",
              "    <tr>\n",
              "      <th>std</th>\n",
              "      <td>6.953399</td>\n",
              "      <td>684.458171</td>\n",
              "      <td>82241.870901</td>\n",
              "    </tr>\n",
              "    <tr>\n",
              "      <th>min</th>\n",
              "      <td>1990.000000</td>\n",
              "      <td>1.000000</td>\n",
              "      <td>1.000000</td>\n",
              "    </tr>\n",
              "    <tr>\n",
              "      <th>25%</th>\n",
              "      <td>2007.000000</td>\n",
              "      <td>1000.000000</td>\n",
              "      <td>36500.000000</td>\n",
              "    </tr>\n",
              "    <tr>\n",
              "      <th>50%</th>\n",
              "      <td>2013.000000</td>\n",
              "      <td>1300.000000</td>\n",
              "      <td>73000.000000</td>\n",
              "    </tr>\n",
              "    <tr>\n",
              "      <th>75%</th>\n",
              "      <td>2017.000000</td>\n",
              "      <td>1600.000000</td>\n",
              "      <td>110520.000000</td>\n",
              "    </tr>\n",
              "    <tr>\n",
              "      <th>max</th>\n",
              "      <td>2021.000000</td>\n",
              "      <td>10000.000000</td>\n",
              "      <td>999999.000000</td>\n",
              "    </tr>\n",
              "  </tbody>\n",
              "</table>\n",
              "</div>\n",
              "    <div class=\"colab-df-buttons\">\n",
              "\n",
              "  <div class=\"colab-df-container\">\n",
              "    <button class=\"colab-df-convert\" onclick=\"convertToInteractive('df-dd3537f6-bdcb-4e81-8175-a7de07d1c788')\"\n",
              "            title=\"Convert this dataframe to an interactive table.\"\n",
              "            style=\"display:none;\">\n",
              "\n",
              "  <svg xmlns=\"http://www.w3.org/2000/svg\" height=\"24px\" viewBox=\"0 -960 960 960\">\n",
              "    <path d=\"M120-120v-720h720v720H120Zm60-500h600v-160H180v160Zm220 220h160v-160H400v160Zm0 220h160v-160H400v160ZM180-400h160v-160H180v160Zm440 0h160v-160H620v160ZM180-180h160v-160H180v160Zm440 0h160v-160H620v160Z\"/>\n",
              "  </svg>\n",
              "    </button>\n",
              "\n",
              "  <style>\n",
              "    .colab-df-container {\n",
              "      display:flex;\n",
              "      gap: 12px;\n",
              "    }\n",
              "\n",
              "    .colab-df-convert {\n",
              "      background-color: #E8F0FE;\n",
              "      border: none;\n",
              "      border-radius: 50%;\n",
              "      cursor: pointer;\n",
              "      display: none;\n",
              "      fill: #1967D2;\n",
              "      height: 32px;\n",
              "      padding: 0 0 0 0;\n",
              "      width: 32px;\n",
              "    }\n",
              "\n",
              "    .colab-df-convert:hover {\n",
              "      background-color: #E2EBFA;\n",
              "      box-shadow: 0px 1px 2px rgba(60, 64, 67, 0.3), 0px 1px 3px 1px rgba(60, 64, 67, 0.15);\n",
              "      fill: #174EA6;\n",
              "    }\n",
              "\n",
              "    .colab-df-buttons div {\n",
              "      margin-bottom: 4px;\n",
              "    }\n",
              "\n",
              "    [theme=dark] .colab-df-convert {\n",
              "      background-color: #3B4455;\n",
              "      fill: #D2E3FC;\n",
              "    }\n",
              "\n",
              "    [theme=dark] .colab-df-convert:hover {\n",
              "      background-color: #434B5C;\n",
              "      box-shadow: 0px 1px 3px 1px rgba(0, 0, 0, 0.15);\n",
              "      filter: drop-shadow(0px 1px 2px rgba(0, 0, 0, 0.3));\n",
              "      fill: #FFFFFF;\n",
              "    }\n",
              "  </style>\n",
              "\n",
              "    <script>\n",
              "      const buttonEl =\n",
              "        document.querySelector('#df-dd3537f6-bdcb-4e81-8175-a7de07d1c788 button.colab-df-convert');\n",
              "      buttonEl.style.display =\n",
              "        google.colab.kernel.accessAllowed ? 'block' : 'none';\n",
              "\n",
              "      async function convertToInteractive(key) {\n",
              "        const element = document.querySelector('#df-dd3537f6-bdcb-4e81-8175-a7de07d1c788');\n",
              "        const dataTable =\n",
              "          await google.colab.kernel.invokeFunction('convertToInteractive',\n",
              "                                                    [key], {});\n",
              "        if (!dataTable) return;\n",
              "\n",
              "        const docLinkHtml = 'Like what you see? Visit the ' +\n",
              "          '<a target=\"_blank\" href=https://colab.research.google.com/notebooks/data_table.ipynb>data table notebook</a>'\n",
              "          + ' to learn more about interactive tables.';\n",
              "        element.innerHTML = '';\n",
              "        dataTable['output_type'] = 'display_data';\n",
              "        await google.colab.output.renderOutput(dataTable, element);\n",
              "        const docLink = document.createElement('div');\n",
              "        docLink.innerHTML = docLinkHtml;\n",
              "        element.appendChild(docLink);\n",
              "      }\n",
              "    </script>\n",
              "  </div>\n",
              "\n",
              "\n",
              "<div id=\"df-16d5210d-a732-4f73-8819-60d5d6f59513\">\n",
              "  <button class=\"colab-df-quickchart\" onclick=\"quickchart('df-16d5210d-a732-4f73-8819-60d5d6f59513')\"\n",
              "            title=\"Suggest charts\"\n",
              "            style=\"display:none;\">\n",
              "\n",
              "<svg xmlns=\"http://www.w3.org/2000/svg\" height=\"24px\"viewBox=\"0 0 24 24\"\n",
              "     width=\"24px\">\n",
              "    <g>\n",
              "        <path d=\"M19 3H5c-1.1 0-2 .9-2 2v14c0 1.1.9 2 2 2h14c1.1 0 2-.9 2-2V5c0-1.1-.9-2-2-2zM9 17H7v-7h2v7zm4 0h-2V7h2v10zm4 0h-2v-4h2v4z\"/>\n",
              "    </g>\n",
              "</svg>\n",
              "  </button>\n",
              "\n",
              "<style>\n",
              "  .colab-df-quickchart {\n",
              "      --bg-color: #E8F0FE;\n",
              "      --fill-color: #1967D2;\n",
              "      --hover-bg-color: #E2EBFA;\n",
              "      --hover-fill-color: #174EA6;\n",
              "      --disabled-fill-color: #AAA;\n",
              "      --disabled-bg-color: #DDD;\n",
              "  }\n",
              "\n",
              "  [theme=dark] .colab-df-quickchart {\n",
              "      --bg-color: #3B4455;\n",
              "      --fill-color: #D2E3FC;\n",
              "      --hover-bg-color: #434B5C;\n",
              "      --hover-fill-color: #FFFFFF;\n",
              "      --disabled-bg-color: #3B4455;\n",
              "      --disabled-fill-color: #666;\n",
              "  }\n",
              "\n",
              "  .colab-df-quickchart {\n",
              "    background-color: var(--bg-color);\n",
              "    border: none;\n",
              "    border-radius: 50%;\n",
              "    cursor: pointer;\n",
              "    display: none;\n",
              "    fill: var(--fill-color);\n",
              "    height: 32px;\n",
              "    padding: 0;\n",
              "    width: 32px;\n",
              "  }\n",
              "\n",
              "  .colab-df-quickchart:hover {\n",
              "    background-color: var(--hover-bg-color);\n",
              "    box-shadow: 0 1px 2px rgba(60, 64, 67, 0.3), 0 1px 3px 1px rgba(60, 64, 67, 0.15);\n",
              "    fill: var(--button-hover-fill-color);\n",
              "  }\n",
              "\n",
              "  .colab-df-quickchart-complete:disabled,\n",
              "  .colab-df-quickchart-complete:disabled:hover {\n",
              "    background-color: var(--disabled-bg-color);\n",
              "    fill: var(--disabled-fill-color);\n",
              "    box-shadow: none;\n",
              "  }\n",
              "\n",
              "  .colab-df-spinner {\n",
              "    border: 2px solid var(--fill-color);\n",
              "    border-color: transparent;\n",
              "    border-bottom-color: var(--fill-color);\n",
              "    animation:\n",
              "      spin 1s steps(1) infinite;\n",
              "  }\n",
              "\n",
              "  @keyframes spin {\n",
              "    0% {\n",
              "      border-color: transparent;\n",
              "      border-bottom-color: var(--fill-color);\n",
              "      border-left-color: var(--fill-color);\n",
              "    }\n",
              "    20% {\n",
              "      border-color: transparent;\n",
              "      border-left-color: var(--fill-color);\n",
              "      border-top-color: var(--fill-color);\n",
              "    }\n",
              "    30% {\n",
              "      border-color: transparent;\n",
              "      border-left-color: var(--fill-color);\n",
              "      border-top-color: var(--fill-color);\n",
              "      border-right-color: var(--fill-color);\n",
              "    }\n",
              "    40% {\n",
              "      border-color: transparent;\n",
              "      border-right-color: var(--fill-color);\n",
              "      border-top-color: var(--fill-color);\n",
              "    }\n",
              "    60% {\n",
              "      border-color: transparent;\n",
              "      border-right-color: var(--fill-color);\n",
              "    }\n",
              "    80% {\n",
              "      border-color: transparent;\n",
              "      border-right-color: var(--fill-color);\n",
              "      border-bottom-color: var(--fill-color);\n",
              "    }\n",
              "    90% {\n",
              "      border-color: transparent;\n",
              "      border-bottom-color: var(--fill-color);\n",
              "    }\n",
              "  }\n",
              "</style>\n",
              "\n",
              "  <script>\n",
              "    async function quickchart(key) {\n",
              "      const quickchartButtonEl =\n",
              "        document.querySelector('#' + key + ' button');\n",
              "      quickchartButtonEl.disabled = true;  // To prevent multiple clicks.\n",
              "      quickchartButtonEl.classList.add('colab-df-spinner');\n",
              "      try {\n",
              "        const charts = await google.colab.kernel.invokeFunction(\n",
              "            'suggestCharts', [key], {});\n",
              "      } catch (error) {\n",
              "        console.error('Error during call to suggestCharts:', error);\n",
              "      }\n",
              "      quickchartButtonEl.classList.remove('colab-df-spinner');\n",
              "      quickchartButtonEl.classList.add('colab-df-quickchart-complete');\n",
              "    }\n",
              "    (() => {\n",
              "      let quickchartButtonEl =\n",
              "        document.querySelector('#df-16d5210d-a732-4f73-8819-60d5d6f59513 button');\n",
              "      quickchartButtonEl.style.display =\n",
              "        google.colab.kernel.accessAllowed ? 'block' : 'none';\n",
              "    })();\n",
              "  </script>\n",
              "</div>\n",
              "\n",
              "    </div>\n",
              "  </div>\n"
            ],
            "application/vnd.google.colaboratory.intrinsic+json": {
              "type": "dataframe",
              "summary": "{\n  \"name\": \"df\",\n  \"rows\": 8,\n  \"fields\": [\n    {\n      \"column\": \"Make_Year\",\n      \"properties\": {\n        \"dtype\": \"number\",\n        \"std\": 27885.855966801453,\n        \"min\": 6.953399297427456,\n        \"max\": 80572.0,\n        \"num_unique_values\": 8,\n        \"samples\": [\n          2011.7242094027702,\n          2013.0,\n          80572.0\n        ],\n        \"semantic_type\": \"\",\n        \"description\": \"\"\n      }\n    },\n    {\n      \"column\": \"CC\",\n      \"properties\": {\n        \"dtype\": \"number\",\n        \"std\": 27861.95744120577,\n        \"min\": 1.0,\n        \"max\": 80572.0,\n        \"num_unique_values\": 8,\n        \"samples\": [\n          1404.0832671399494,\n          1300.0,\n          80572.0\n        ],\n        \"semantic_type\": \"\",\n        \"description\": \"\"\n      }\n    },\n    {\n      \"column\": \"Mileage\",\n      \"properties\": {\n        \"dtype\": \"number\",\n        \"std\": 331642.89934883843,\n        \"min\": 1.0,\n        \"max\": 999999.0,\n        \"num_unique_values\": 8,\n        \"samples\": [\n          85653.66008042496,\n          73000.0,\n          80572.0\n        ],\n        \"semantic_type\": \"\",\n        \"description\": \"\"\n      }\n    }\n  ]\n}"
            }
          },
          "metadata": {},
          "execution_count": 4
        }
      ]
    },
    {
      "cell_type": "markdown",
      "source": [
        "#**Checking Null values in the Dataset and Duplicated rows as well**"
      ],
      "metadata": {
        "id": "ME_eRWOFXniE"
      }
    },
    {
      "cell_type": "code",
      "source": [
        "print(\"Missing Values:\")\n",
        "print(df.isnull().sum())\n",
        "\n",
        "print(\"\\nDuplicated Rows:\")\n",
        "print(df.duplicated().sum())\n"
      ],
      "metadata": {
        "colab": {
          "base_uri": "https://localhost:8080/",
          "height": 0
        },
        "id": "JPfloKiyV7sp",
        "outputId": "8b1ce5cd-9592-4a98-eabb-e60ac9810b9a"
      },
      "execution_count": 9,
      "outputs": [
        {
          "output_type": "stream",
          "name": "stdout",
          "text": [
            "Missing Values:\n",
            "Make                  0\n",
            "Model                 0\n",
            "Version            6772\n",
            "Price                 0\n",
            "Make_Year             0\n",
            "CC                    0\n",
            "Assembly              0\n",
            "Mileage               0\n",
            "Registered City       0\n",
            "Transmission          0\n",
            "dtype: int64\n",
            "\n",
            "Duplicated Rows:\n",
            "1684\n"
          ]
        }
      ]
    },
    {
      "cell_type": "markdown",
      "source": [
        "#**Pre-Processing of Dataset**\n",
        "**Data preprocessing involves handling missing values, handling duplicated rows, encoding categorical variables, and scaling numerical features.**"
      ],
      "metadata": {
        "id": "kvofFvcEYUPl"
      }
    },
    {
      "cell_type": "code",
      "source": [
        "df.dropna(inplace=True)\n",
        "df.drop_duplicates(inplace=True)\n",
        "\n",
        "df.reset_index(drop=True, inplace=True)\n"
      ],
      "metadata": {
        "id": "mIPgljGzYNIx"
      },
      "execution_count": 10,
      "outputs": []
    },
    {
      "cell_type": "markdown",
      "source": [
        "#**Checking Price Column**\n",
        "**Checking if all values are numerical or not**"
      ],
      "metadata": {
        "id": "auHeqiVPZj0U"
      }
    },
    {
      "cell_type": "code",
      "source": [
        "call_for_price_count = (df['Price'] == 'Call for price').sum()\n",
        "print(\"Total rows with 'Call for price' in the Price column:\", call_for_price_count)"
      ],
      "metadata": {
        "colab": {
          "base_uri": "https://localhost:8080/",
          "height": 0
        },
        "id": "VbZLEQEkZFCq",
        "outputId": "87089857-8220-4dee-9ef5-3aff53c07caa"
      },
      "execution_count": 11,
      "outputs": [
        {
          "output_type": "stream",
          "name": "stdout",
          "text": [
            "Total rows with 'Call for price' in the Price column: 1036\n"
          ]
        }
      ]
    },
    {
      "cell_type": "markdown",
      "source": [
        "**Dropping those rows with string values**"
      ],
      "metadata": {
        "id": "nUuaQdeuZyc7"
      }
    },
    {
      "cell_type": "code",
      "source": [
        "df = df[df['Price'] != 'Call for price']\n",
        "df['Price'] = pd.to_numeric(df['Price'])\n",
        "print(df.isnull().sum())"
      ],
      "metadata": {
        "colab": {
          "base_uri": "https://localhost:8080/",
          "height": 0
        },
        "id": "Garmp9hHZu3L",
        "outputId": "d523f874-94f3-426d-a5bf-5c4bb5b7f744"
      },
      "execution_count": 13,
      "outputs": [
        {
          "output_type": "stream",
          "name": "stdout",
          "text": [
            "Make               0\n",
            "Model              0\n",
            "Version            0\n",
            "Price              0\n",
            "Make_Year          0\n",
            "CC                 0\n",
            "Assembly           0\n",
            "Mileage            0\n",
            "Registered City    0\n",
            "Transmission       0\n",
            "dtype: int64\n"
          ]
        }
      ]
    },
    {
      "cell_type": "markdown",
      "source": [
        "#**Encoding Categorical Variables**\n",
        "**We need to convert categorical variables to numerical format using techniques like one-hot encoding or label encoding.**\n",
        "\n"
      ],
      "metadata": {
        "id": "_Q90mfRBam7S"
      }
    },
    {
      "cell_type": "code",
      "source": [
        "df = pd.get_dummies(df, columns=['Make', 'Model', 'Version', 'Assembly', 'Registered City', 'Transmission'], drop_first=True)"
      ],
      "metadata": {
        "id": "u7ztzfNnaVrg"
      },
      "execution_count": 14,
      "outputs": []
    },
    {
      "cell_type": "markdown",
      "source": [
        "#**Scaling Numerical Features**\n",
        "**We will scale numerical features to ensure all features contribute equally to the model.**"
      ],
      "metadata": {
        "id": "JtetoC2ya5iC"
      }
    },
    {
      "cell_type": "code",
      "source": [
        "features_to_scale = ['Make_Year', 'CC', 'Mileage']\n",
        "scaler = StandardScaler()\n",
        "df[features_to_scale] = scaler.fit_transform(df[features_to_scale])\n"
      ],
      "metadata": {
        "id": "Wj3ZmWrDaytz"
      },
      "execution_count": 15,
      "outputs": []
    },
    {
      "cell_type": "markdown",
      "source": [
        "#**Feature Engineering**\n",
        "**We are Applying Feature Engineering to improve the model predictive power**"
      ],
      "metadata": {
        "id": "iwhq2rZNbLqd"
      }
    },
    {
      "cell_type": "code",
      "source": [
        "df['Car_Age'] = 2024 - df['Make_Year']\n",
        "df.drop('Make_Year', axis=1, inplace=True)\n"
      ],
      "metadata": {
        "id": "63AF3jbwbFP1"
      },
      "execution_count": 16,
      "outputs": []
    },
    {
      "cell_type": "markdown",
      "source": [
        "#**Now Model Selection and Training**\n",
        "**We are splitting our dataset into train and test set and then we train multiple regression model to get the best result for it**"
      ],
      "metadata": {
        "id": "M-iXCPsmbtpg"
      }
    },
    {
      "cell_type": "code",
      "source": [
        "X = df.drop('Price', axis=1)\n",
        "y = df['Price']\n",
        "X_train, X_test, y_train, y_test = train_test_split(X, y, test_size=0.2, random_state=42)\n"
      ],
      "metadata": {
        "id": "yi_7wubLbhH1"
      },
      "execution_count": 17,
      "outputs": []
    },
    {
      "cell_type": "markdown",
      "source": [
        "#**Training different Models & Evaluation**\n",
        "**We will try different regression models such as Linear Regression, Decision Tree, Random Forest, and Gradient Boosting.**\n",
        "**We will also Evaluate the mean squared error and r2 score for each model.**"
      ],
      "metadata": {
        "id": "fwTvF_7kcTGt"
      }
    },
    {
      "cell_type": "code",
      "source": [
        "models = {\n",
        "    'Linear Regression': LinearRegression(),\n",
        "    'Decision Tree': DecisionTreeRegressor(),\n",
        "    'Random Forest': RandomForestRegressor(),\n",
        "    'Gradient Boosting': GradientBoostingRegressor()\n",
        "}\n",
        "\n",
        "model_names=[]\n",
        "r2_scores=[]\n",
        "\n",
        "for name, model in models.items():\n",
        "    model.fit(X_train, y_train)\n",
        "    y_pred = model.predict(X_test)\n",
        "    rmse = mean_squared_error(y_test, y_pred, squared=False)\n",
        "    r2 = r2_score(y_test, y_pred)\n",
        "    model_names.append(name)\n",
        "    r2_scores.append(r2)\n",
        "    print(f'{name} RMSE: {rmse}')\n",
        "    print(f'{name} R²: {r2}')"
      ],
      "metadata": {
        "colab": {
          "base_uri": "https://localhost:8080/",
          "height": 0
        },
        "id": "WU_c6-odcRL7",
        "outputId": "f1730dfa-be84-41fb-b481-6420021fdae1"
      },
      "execution_count": 30,
      "outputs": [
        {
          "output_type": "stream",
          "name": "stdout",
          "text": [
            "Linear Regression RMSE: 6159283033169541.0\n",
            "Linear Regression R²: -2.8413883481825495e+18\n",
            "Decision Tree RMSE: 799296.4027310535\n",
            "Decision Tree R²: 0.9521495540873104\n",
            "Random Forest RMSE: 727320.5923366025\n",
            "Random Forest R²: 0.9603793095092732\n",
            "Gradient Boosting RMSE: 935242.2090691681\n",
            "Gradient Boosting R²: 0.9344883601570692\n"
          ]
        }
      ]
    },
    {
      "cell_type": "markdown",
      "source": [
        "#**Visualizing the Evaluation of Each model**"
      ],
      "metadata": {
        "id": "Bc8zOTYyelrU"
      }
    },
    {
      "cell_type": "code",
      "source": [
        "plt.figure(figsize=(10, 6))\n",
        "plt.bar(model_names, r2_scores, color=['blue', 'green', 'red', 'purple'])\n",
        "plt.xlabel('Model')\n",
        "plt.ylabel('R² Score')\n",
        "plt.title('R² Scores of Different Regression Models')\n",
        "plt.ylim(0, 1)\n",
        "plt.xticks(rotation=45)\n",
        "plt.show()"
      ],
      "metadata": {
        "colab": {
          "base_uri": "https://localhost:8080/",
          "height": 649
        },
        "id": "D99T3JIhc3YU",
        "outputId": "4a7e9552-782e-4431-817b-30acdbf17e31"
      },
      "execution_count": 29,
      "outputs": [
        {
          "output_type": "display_data",
          "data": {
            "text/plain": [
              "<Figure size 1000x600 with 1 Axes>"
            ],
            "image/png": "[encoded data removed]"
          },
          "metadata": {}
        }
      ]
    },
    {
      "cell_type": "markdown",
      "source": [
        "#**Report for Task 1:-**\n",
        "####**For the first task i reviewed the dataset. The dataset has many missing and duplicating values which cause many challanges e.g drop. I tried different techniques for the preprocessing after cleaning the data set i applied the one hot encoders to convert categorical values in to numerical values then apply the feature scaling so that each feature should work equally for the models thats best technique to get best result after that appliedd the feature engineering and then afterwards i split the data set and applied different regressor models to get best evaluted result from one of them. We can also apply the hypertuning of the best model but it can or it may lead us to overfitting of the model**"
      ],
      "metadata": {
        "id": "ku_MQDQ1oTm2"
      }
    },
    {
      "cell_type": "code",
      "source": [],
      "metadata": {
        "id": "S3vVlZUlrX34"
      },
      "execution_count": null,
      "outputs": []
    }
  ]
}